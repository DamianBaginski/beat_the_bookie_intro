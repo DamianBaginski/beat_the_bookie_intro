{
 "cells": [
  {
   "cell_type": "markdown",
   "id": "1f8bd72a-aeca-4261-bd36-31a7a45972ab",
   "metadata": {},
   "source": [
    "# BETAING THE BOOKIE - IS IT EVEN POSSIBLE?"
   ]
  },
  {
   "cell_type": "markdown",
   "id": "f25491e2-4331-4957-acfe-855e4755f870",
   "metadata": {},
   "source": [
    "------------------------"
   ]
  },
  {
   "cell_type": "markdown",
   "id": "cb362ded-06d5-44f4-8304-7e788690c526",
   "metadata": {},
   "source": [
    "Agenda:\n",
    "- How do bookmakers work?\n",
    "- How are bookmakers' odds calculated?\n",
    "- What are some of the money management strategies?\n",
    "- How can you implement a machine learning model to that problem?\n",
    "- Modelling & fun with data"
   ]
  },
  {
   "cell_type": "markdown",
   "id": "b3eacaf1-f49e-45f5-b272-1effd71b4e87",
   "metadata": {},
   "source": [
    "## 1. How do bookmakers work?"
   ]
  },
  {
   "cell_type": "markdown",
   "id": "b51f0bea-4fdd-4ccd-a89e-22d1ccc70572",
   "metadata": {},
   "source": [
    "![MoneyUrl](https://media.tenor.com/-1phYTnql_kAAAAd/xrd-exrd.gif \"money\")<br>\n",
    "Gif of an average bookmaker"
   ]
  },
  {
   "cell_type": "markdown",
   "id": "eaa86b00-c51a-4b7b-9647-fbd8bc38debb",
   "metadata": {},
   "source": [
    "### Definition"
   ]
  },
  {
   "cell_type": "markdown",
   "id": "30b15c31-b8ce-4ae6-bea9-a3e15dad1d42",
   "metadata": {},
   "source": [
    "<font size=\"1\">(I mean, yeah, there is porbably a better one but who would like to read dull wikipedia pages, right?)</font>"
   ]
  },
  {
   "cell_type": "markdown",
   "id": "7a387831-ebc5-4c3c-bc80-f3777e105053",
   "metadata": {},
   "source": [
    "Typically bookmaker is a proffesion like no other.<br>\n",
    "They posses magical skills of multiplying your money when you are right! \n",
    " \n",
    "Imagine if you had one dollar for every right thing you said...\n",
    "    Sounds great?? I guess so.\n",
    "    \n",
    "But there is a catch. Not like a small one but rather a <b> BIG </b> one. It is gambling after all...\n",
    "Once you are wrong, you lose all that you staked."
   ]
  },
  {
   "cell_type": "markdown",
   "id": "aec06684-9143-432e-9fa9-8940d6898c14",
   "metadata": {},
   "source": [
    "\"Okay okay mr. Know it All but if you lose money and probably the odds are rigged in favour of bookmakers then you are destined to lose, don't you?\" <br>\n",
    "\"Well yes, but no.\" - I would respond <br>\n",
    "\"Go on..\" <br>\n",
    "\"Hold your horses Speedy Gonzalez, let's take a minute to learn the ropes, then we could have some fun with it\"\n",
    "\n",
    "<font size=\"1\">I guess that's how an average conversation with some of you would go. No? Ok, I was just guessing..</font>"
   ]
  },
  {
   "cell_type": "markdown",
   "id": "c2a5fd70-1767-49ba-b08f-b5b7a324d2c9",
   "metadata": {},
   "source": [
    "### What is their job?"
   ]
  },
  {
   "cell_type": "markdown",
   "id": "8c1758c3-66ce-427c-814c-d474d187570e",
   "metadata": {},
   "source": [
    "Their task is to create odds for specific results (e.g. draw, home team win, which horse is the fastest, etc.) in specific sporting events. <br>\n",
    "A bookmaker's job may look simple but in reality it isn't. One small slip in odds offer and they may lose lots of money."
   ]
  },
  {
   "attachments": {
    "e845a402-9cd6-4c08-9ee1-2ba9586aff34.png": {
     "image/png": "[encoded data removed]"
    }
   },
   "cell_type": "markdown",
   "id": "0adf6ff2-9022-4435-aba3-6f9ec366ac80",
   "metadata": {},
   "source": [
    "![image.png](attachment:e845a402-9cd6-4c08-9ee1-2ba9586aff34.png) <br> Example odds for a football game, 1 is home win, x is draw and 2 means away win\n",
    "<br> From that you can calculate probabilities"
   ]
  },
  {
   "cell_type": "markdown",
   "id": "6aa1c6f6-e685-4b3d-9451-736a3ce51003",
   "metadata": {},
   "source": [
    "DISCLAIMER 1: This presentation is neither an investment proposal nor an encouragement for gambling, it is merely a fun notebook to see if you can really beat the bookmaker <br>\n",
    "DISCLAIMER 2: I'm sorry whole world and UK but in this presentation we will be working with european odds because they simply MAKE THE MOST SENSE\n",
    "\n",
    "Okay, with that sorted let's move on to the next section"
   ]
  },
  {
   "cell_type": "markdown",
   "id": "c7e965ba-3d9b-477c-b861-1fc967a1b041",
   "metadata": {},
   "source": [
    "## 2. How are bookmakers' odds calculated?"
   ]
  },
  {
   "cell_type": "markdown",
   "id": "142c6b7f-459f-4bd5-99c0-f3f1865a6663",
   "metadata": {},
   "source": [
    "First of all, let's see what's all this fuss about european odds. In short, it is easy to see what the expected payout would be. For example if you were to bet \\\\$10 on an event that has 1.5 odds, then you may win \\\\$15. Or lose it all in case you pick the wrong option. Furthermore european odds are also easily transformed into implied probability:"
   ]
  },
  {
   "cell_type": "markdown",
   "id": "e26911c1-1bfe-4275-b695-e844cb16a09a",
   "metadata": {},
   "source": [
    "$$\n",
    "\\pi_{i} = 1/o_{i}\n",
    "$$"
   ]
  },
  {
   "cell_type": "markdown",
   "id": "7a230667-d005-42dd-aea1-a0f7b903b3e8",
   "metadata": {},
   "source": [
    "Hold up, <b><i>implied</i></b> probability?"
   ]
  },
  {
   "cell_type": "markdown",
   "id": "952b7f12-e875-4054-8365-e218cf34bf41",
   "metadata": {},
   "source": [
    "Yep, that is right, had we been living in a perfect world, then all of the implied probabilities of all possible outcomes of a match would sum up to 1. But sadly, it is very rare."
   ]
  },
  {
   "cell_type": "markdown",
   "id": "e005e7f8-c1cb-47da-ba16-689ab638f69b",
   "metadata": {},
   "source": [
    "In the majority of cases this addition ends up in values bigger than 1. Bookmakers do that deliberately, because they want to earn some money. Think of it as a margin for bookmaker."
   ]
  },
  {
   "cell_type": "markdown",
   "id": "3f3d890d-09a9-426a-bc70-dc3b36fd02eb",
   "metadata": {},
   "source": [
    "One way to calculate the real probabilities is to divide each implied probability by the sum of all implied probabilities:"
   ]
  },
  {
   "cell_type": "markdown",
   "id": "b52ef80e-ac13-48be-9ea2-8391b3a6e479",
   "metadata": {},
   "source": [
    "$$\n",
    "p_{i} = \\frac{1}{\\sum_{i=1}^{n}\\pi_{i}}\n",
    "$$"
   ]
  },
  {
   "cell_type": "markdown",
   "id": "40323a97-df82-4632-aedc-f9bf7136048e",
   "metadata": {},
   "source": [
    "### How do they know what odds to offer?"
   ]
  },
  {
   "cell_type": "markdown",
   "id": "b37f5b68-5895-4ffb-8a8d-5cfe614031e0",
   "metadata": {},
   "source": [
    "Basically, the starting odds are calculated with help of statistical models but then it is getting more complex. Odds fluctuate throught the time period from initial offering to the start of the match. Why? Imagine if all players for some weird reason would bet on one event that eventually occured in reality. In this way bookmaker would be furious, they would lose lots of money. Therefore they adjust their odds to incentivize betting on different events. That is called risk management."
   ]
  },
  {
   "cell_type": "markdown",
   "id": "06edca0c-c245-4d38-9023-6f7bdf7f329d",
   "metadata": {},
   "source": [
    "Can you see where this is going? It smells to me like market inefficiency..."
   ]
  },
  {
   "cell_type": "markdown",
   "id": "baf5584c-3a68-4992-ac92-70c4a12f649e",
   "metadata": {},
   "source": [
    "![InefficiencyUrl](https://media1.giphy.com/media/3o6MbiByum8PSsQcMg/giphy.gif?cid=ecf05e47wfr2s9r0tkvlaaez15sbqen2j38s6azn9u0gjtmr&ep=v1_gifs_search&rid=giphy.gif&ct=g \"inefficiency\")"
   ]
  },
  {
   "cell_type": "markdown",
   "id": "c9d4c34c-14e8-47d9-aabc-5cb41deade01",
   "metadata": {},
   "source": [
    "And it is exactly what interests professional betting freaks. Analysis of hundreds of offered odds from different bookmakers, seeking arbitrage opportunities, all of this is possible! Yet, in this presentation we won't go that far. Nonetheless, here are some research papers from betting geeks if you want to delve deeper into that topic:\n",
    "\n",
    "- \n",
    "- "
   ]
  },
  {
   "cell_type": "markdown",
   "id": "9f4b1c0b-8052-45ca-b340-c0902ca6b457",
   "metadata": {},
   "source": [
    "## 3. What are some of the money management strategies?"
   ]
  },
  {
   "cell_type": "markdown",
   "id": "a578d2e6-372b-419b-b43b-7ca5f2ffff02",
   "metadata": {},
   "source": [
    "Some of the most notable ones include:\n",
    "- betting only on odds bigger than 1.5 with high probability of conversion\n",
    "- usage of Kelly Criterion\n",
    "- usage of Markowitz Portfolio Management"
   ]
  },
  {
   "cell_type": "markdown",
   "id": "7fc61f37-6bf7-4d7f-8ec5-3e5a271b866a",
   "metadata": {},
   "source": [
    "First one is pretty straightforward. Look for discreptancies between real and implied odds, then bet money on those juicy odds"
   ]
  },
  {
   "cell_type": "markdown",
   "id": "729e2c38-2503-4e42-afba-0d976c615093",
   "metadata": {},
   "source": [
    "Second one is more tricky:"
   ]
  },
  {
   "cell_type": "markdown",
   "id": "00e52aa2-3936-414d-8d28-41a33b3146e0",
   "metadata": {},
   "source": [
    "$$\n",
    "K=(B⋅P-(1-P))∕B\n",
    "$$"
   ]
  },
  {
   "cell_type": "markdown",
   "id": "38f98b99-8682-4e59-8d50-31989cf75329",
   "metadata": {},
   "source": [
    "where B is offered odds minus 1, P is probability of an event occuring (calculated by the player). This way you will obtain K which is the percentage of funds that could be invested in betting on given event."
   ]
  },
  {
   "cell_type": "markdown",
   "id": "689bed36-bc95-41e5-87e9-3230fb404212",
   "metadata": {},
   "source": [
    "The third one is the trickiest of all, so I will leave a link for those of you who are interested: <br>\n",
    "https://en.wikipedia.org/wiki/Modern_portfolio_theory"
   ]
  },
  {
   "cell_type": "markdown",
   "id": "5286e72e-219a-440d-bed2-753ec056accd",
   "metadata": {},
   "source": [
    "In essence, it provides a systematic approach to investment decision-making by quantifying risk and return, emphasizing diversification, and guiding investors in building portfolios that align with their risk preferences and financial goals"
   ]
  },
  {
   "cell_type": "markdown",
   "id": "b13526b3-1300-40cf-a122-d9b27995fb67",
   "metadata": {},
   "source": [
    "<font size=1> Thanks Chat GPT :)</font>"
   ]
  },
  {
   "cell_type": "markdown",
   "id": "db8245d0-a08e-4608-9a43-096fda61d520",
   "metadata": {},
   "source": [
    "Ok cool, now I know some money management strategies, next time I won't buy an overpriced coffee from Starbucks, but how do I calculate my own probabilities or something? - you may ask <br>\n",
    "Answer is simple, just implement those funny little things:"
   ]
  },
  {
   "cell_type": "markdown",
   "id": "51aea590-b579-4728-a9a2-b15cace34aba",
   "metadata": {},
   "source": [
    "## 4. How can you implement a machine learning model to that problem?"
   ]
  },
  {
   "cell_type": "markdown",
   "id": "081dcbdb-7639-40f5-89a2-c0df1ccc5225",
   "metadata": {},
   "source": [
    "How? Easily!"
   ]
  },
  {
   "cell_type": "markdown",
   "id": "110005b1-25da-4912-99e1-2d1d9dc725fd",
   "metadata": {},
   "source": [
    "![WinUrl](https://media.tenor.com/FLzvTbTtvJEAAAAC/jens-gustafsson-jens.gif \"win\")"
   ]
  },
  {
   "cell_type": "markdown",
   "id": "2d36ae94-90b7-4c1e-95d7-53e4af3b1425",
   "metadata": {},
   "source": [
    "There are multitude of models out there but let's focus on a model that is easy to use, easy to explain and generates good results - XGBoost!"
   ]
  },
  {
   "cell_type": "markdown",
   "id": "3c8a67ed-d9dd-4ff5-a2bb-acb5273fc03c",
   "metadata": {},
   "source": [
    "### What is XGBoost?"
   ]
  },
  {
   "cell_type": "markdown",
   "id": "42c33512-8141-46e1-81d6-8bc150f0ea54",
   "metadata": {},
   "source": [
    "Well, to keep it short, it is a type of ensemble learning methods which are methods combining creation of multpile models to boost model's performance and learn on mistakes. <br>\n",
    "XGBoost's main ideas are:\n",
    "- <b>Gradient Boosting</b>: XGBoost is based on gradient boosting, which is a sequential ensemble learning method. It builds an ensemble of decision trees one at a time, with each tree correcting the errors made by the previous ones. This iterative process continues until a specified number of trees are created or until a performance criterion is met.\n",
    "\n",
    "- <b>Regularization</b>: XGBoost incorporates L1 (Lasso) and L2 (Ridge) regularization techniques to prevent overfitting. These regularization terms are added to the objective function during training, penalizing complex models and encouraging simplicity."
   ]
  },
  {
   "cell_type": "markdown",
   "id": "29cb65e3-636f-441e-b09d-81a94bea28dd",
   "metadata": {},
   "source": [
    "Here you can find great video on that topic: <br>\n",
    "https://www.youtube.com/watch?v=OtD8wVaFm6E&ab_channel=StatQuestwithJoshStarmer"
   ]
  },
  {
   "cell_type": "markdown",
   "id": "3abc1a8e-d6ad-4987-aa01-c7ecb3d8f063",
   "metadata": {},
   "source": [
    "By training, adjusting and applying this algorithm to the data, we may be able to create a model that will be able to accurately predict outcomes of matches."
   ]
  },
  {
   "cell_type": "markdown",
   "id": "e1c40eec-59b4-484d-927c-8ae933923452",
   "metadata": {},
   "source": [
    "## 5. Modelling & fun with data"
   ]
  },
  {
   "cell_type": "markdown",
   "id": "066fbd9b-cf13-4d40-9e60-07ee2c3c757a",
   "metadata": {},
   "source": [
    "#### Import essential libraries"
   ]
  },
  {
   "cell_type": "code",
   "execution_count": 48,
   "id": "e98f6676-4906-4b54-9f5c-ef4ab84580c5",
   "metadata": {},
   "outputs": [],
   "source": [
    "import numpy as np\n",
    "import pandas as pd\n",
    "from sklearn.preprocessing import RobustScaler\n",
    "from sklearn.metrics import mean_squared_error\n",
    "from sklearn.model_selection import KFold\n",
    "from typing import NamedTuple\n",
    "from xgboost import XGBRegressor"
   ]
  },
  {
   "cell_type": "markdown",
   "id": "683ff77e-20e3-4030-b078-9bac72ae68f8",
   "metadata": {},
   "source": [
    "#### Load data"
   ]
  },
  {
   "cell_type": "code",
   "execution_count": 27,
   "id": "407816bb-b0fd-4d14-a7a4-6f4317b38efe",
   "metadata": {},
   "outputs": [],
   "source": [
    "class ColumnsConfig(NamedTuple):\n",
    "    round_col: str = 'Round'\n",
    "    home_team_col: str = 'Home'\n",
    "    away_team_col: str = 'Away'\n",
    "    goal_difference_col: str = 'goal_diff'\n",
    "    no_match_home: str = 'no_match_home'\n",
    "    no_match_away: str = 'no_match_away'\n",
    "    scaled_goal_diff_col: str = 'goal_diff_scaled'\n",
    "    bet_h: str = 'H_BET'\n",
    "    bet_draw: str = 'X_BET'\n",
    "    bet_a: str = 'A_BET'\n",
    "        \n",
    "        \n",
    "teams_dict = {'Bruk-Bet T.': 1,\n",
    " 'Lech Poznań': 2,\n",
    " 'Górnik Łęczna': 3,\n",
    " 'Jagiellonia Białystok': 4,\n",
    " 'Legia Warszawa': 5,\n",
    " 'Piast Gliwice': 6,\n",
    " 'Śląsk Wrocław': 7,\n",
    " 'Pogoń Szczecin': 8,\n",
    " 'Wisła Kraków': 9,\n",
    " 'Górnik Zabrze': 10,\n",
    " 'Zagłębie Lubin': 11,\n",
    " 'Stal Mielec': 12,\n",
    " 'Radomiak Radom': 13,\n",
    " 'Warta Poznań': 14,\n",
    " 'Cracovia': 15,\n",
    " 'Lechia Gdańsk': 16,\n",
    " 'Wisła Płock': 17,\n",
    " 'Raków Częstochowa': 18}"
   ]
  },
  {
   "cell_type": "code",
   "execution_count": 24,
   "id": "ad138f26-d69a-4030-8144-a33111486d8a",
   "metadata": {},
   "outputs": [
    {
     "data": {
      "text/plain": [
       "(306, 65)"
      ]
     },
     "execution_count": 24,
     "metadata": {},
     "output_type": "execute_result"
    }
   ],
   "source": [
    "df = pd.read_csv('data/data_football.csv', sep=';')\n",
    "df.shape"
   ]
  },
  {
   "cell_type": "code",
   "execution_count": 38,
   "id": "3fa192c9-ef48-464f-bf0f-e9f42251277c",
   "metadata": {},
   "outputs": [],
   "source": [
    "config = ColumnsConfig()"
   ]
  },
  {
   "cell_type": "markdown",
   "id": "19ca278f-12b5-4723-950c-6c693e279702",
   "metadata": {},
   "source": [
    "That's great and all but how on earth can we predict final result without knowning all of the statistics which are happening during the match in the first place?"
   ]
  },
  {
   "cell_type": "markdown",
   "id": "1e9b8376-c1f6-4fd1-9f99-208778974109",
   "metadata": {},
   "source": [
    "That's where average values come in clutch!"
   ]
  },
  {
   "cell_type": "code",
   "execution_count": 60,
   "id": "1ea76fb4-f015-4996-abf1-04ef187b593f",
   "metadata": {},
   "outputs": [
    {
     "data": {
      "text/html": [
       "<div>\n",
       "<style scoped>\n",
       "    .dataframe tbody tr th:only-of-type {\n",
       "        vertical-align: middle;\n",
       "    }\n",
       "\n",
       "    .dataframe tbody tr th {\n",
       "        vertical-align: top;\n",
       "    }\n",
       "\n",
       "    .dataframe thead th {\n",
       "        text-align: right;\n",
       "    }\n",
       "</style>\n",
       "<table border=\"1\" class=\"dataframe\">\n",
       "  <thead>\n",
       "    <tr style=\"text-align: right;\">\n",
       "      <th></th>\n",
       "      <th>Unnamed: 0</th>\n",
       "      <th>Unnamed: 0.1</th>\n",
       "      <th>League</th>\n",
       "      <th>Home</th>\n",
       "      <th>Away</th>\n",
       "      <th>INC</th>\n",
       "      <th>Round</th>\n",
       "      <th>Date</th>\n",
       "      <th>Time</th>\n",
       "      <th>H_Score</th>\n",
       "      <th>...</th>\n",
       "      <th>Fouls_avg_A</th>\n",
       "      <th>Yellow_Cards_avg_H</th>\n",
       "      <th>Yellow_Cards_avg_A</th>\n",
       "      <th>Ball_Possession_avg_H</th>\n",
       "      <th>Ball_Possession_avg_A</th>\n",
       "      <th>Corner_Kicks_avg_H</th>\n",
       "      <th>Corner_Kicks_avg_A</th>\n",
       "      <th>Offsides_avg_H</th>\n",
       "      <th>Offsides_avg_A</th>\n",
       "      <th>goal_diff_scaled</th>\n",
       "    </tr>\n",
       "  </thead>\n",
       "  <tbody>\n",
       "    <tr>\n",
       "      <th>0</th>\n",
       "      <td>62798</td>\n",
       "      <td>62798</td>\n",
       "      <td>pko-bp-ekstraklasa</td>\n",
       "      <td>1</td>\n",
       "      <td>12</td>\n",
       "      <td>[\"30' Yellow_Home - Mesanovic M.\", \"42' Goal_H...</td>\n",
       "      <td>1</td>\n",
       "      <td>2021-07-23</td>\n",
       "      <td>18:00</td>\n",
       "      <td>1.0</td>\n",
       "      <td>...</td>\n",
       "      <td>16.0</td>\n",
       "      <td>2.0</td>\n",
       "      <td>2.0</td>\n",
       "      <td>0.52</td>\n",
       "      <td>0.48</td>\n",
       "      <td>1.0</td>\n",
       "      <td>2.0</td>\n",
       "      <td>3.0</td>\n",
       "      <td>0.0</td>\n",
       "      <td>0.0</td>\n",
       "    </tr>\n",
       "    <tr>\n",
       "      <th>1</th>\n",
       "      <td>62797</td>\n",
       "      <td>62797</td>\n",
       "      <td>pko-bp-ekstraklasa</td>\n",
       "      <td>2</td>\n",
       "      <td>13</td>\n",
       "      <td>[\"12' Yellow_Away - Machado L.\", \"60' Yellow_H...</td>\n",
       "      <td>1</td>\n",
       "      <td>2021-07-23</td>\n",
       "      <td>20:30</td>\n",
       "      <td>0.0</td>\n",
       "      <td>...</td>\n",
       "      <td>9.0</td>\n",
       "      <td>1.0</td>\n",
       "      <td>1.0</td>\n",
       "      <td>0.55</td>\n",
       "      <td>0.45</td>\n",
       "      <td>9.0</td>\n",
       "      <td>5.0</td>\n",
       "      <td>6.0</td>\n",
       "      <td>2.0</td>\n",
       "      <td>0.0</td>\n",
       "    </tr>\n",
       "    <tr>\n",
       "      <th>2</th>\n",
       "      <td>62796</td>\n",
       "      <td>62796</td>\n",
       "      <td>pko-bp-ekstraklasa</td>\n",
       "      <td>3</td>\n",
       "      <td>15</td>\n",
       "      <td>[\"13' Yellow_Away - Kakabadze O.\", \"24' Yellow...</td>\n",
       "      <td>1</td>\n",
       "      <td>2021-07-24</td>\n",
       "      <td>15:00</td>\n",
       "      <td>1.0</td>\n",
       "      <td>...</td>\n",
       "      <td>10.0</td>\n",
       "      <td>3.0</td>\n",
       "      <td>3.0</td>\n",
       "      <td>0.48</td>\n",
       "      <td>0.52</td>\n",
       "      <td>7.0</td>\n",
       "      <td>7.0</td>\n",
       "      <td>0.0</td>\n",
       "      <td>1.0</td>\n",
       "      <td>0.0</td>\n",
       "    </tr>\n",
       "    <tr>\n",
       "      <th>3</th>\n",
       "      <td>62795</td>\n",
       "      <td>62795</td>\n",
       "      <td>pko-bp-ekstraklasa</td>\n",
       "      <td>4</td>\n",
       "      <td>16</td>\n",
       "      <td>[\"49' Yellow_Home - Cernych F.\", \"52' Goal_Awa...</td>\n",
       "      <td>1</td>\n",
       "      <td>2021-07-24</td>\n",
       "      <td>17:30</td>\n",
       "      <td>1.0</td>\n",
       "      <td>...</td>\n",
       "      <td>11.0</td>\n",
       "      <td>2.0</td>\n",
       "      <td>1.0</td>\n",
       "      <td>0.52</td>\n",
       "      <td>0.48</td>\n",
       "      <td>5.0</td>\n",
       "      <td>9.0</td>\n",
       "      <td>1.0</td>\n",
       "      <td>1.0</td>\n",
       "      <td>0.0</td>\n",
       "    </tr>\n",
       "    <tr>\n",
       "      <th>4</th>\n",
       "      <td>62794</td>\n",
       "      <td>62794</td>\n",
       "      <td>pko-bp-ekstraklasa</td>\n",
       "      <td>5</td>\n",
       "      <td>17</td>\n",
       "      <td>[\"28' Goal_Home - Muci E.(Nawrocki M.)\", \"29' ...</td>\n",
       "      <td>1</td>\n",
       "      <td>2021-07-24</td>\n",
       "      <td>20:00</td>\n",
       "      <td>1.0</td>\n",
       "      <td>...</td>\n",
       "      <td>20.0</td>\n",
       "      <td>2.0</td>\n",
       "      <td>2.0</td>\n",
       "      <td>0.55</td>\n",
       "      <td>0.45</td>\n",
       "      <td>0.0</td>\n",
       "      <td>6.0</td>\n",
       "      <td>2.0</td>\n",
       "      <td>3.0</td>\n",
       "      <td>0.5</td>\n",
       "    </tr>\n",
       "  </tbody>\n",
       "</table>\n",
       "<p>5 rows × 78 columns</p>\n",
       "</div>"
      ],
      "text/plain": [
       "   Unnamed: 0  Unnamed: 0.1              League  Home  Away  \\\n",
       "0       62798         62798  pko-bp-ekstraklasa     1    12   \n",
       "1       62797         62797  pko-bp-ekstraklasa     2    13   \n",
       "2       62796         62796  pko-bp-ekstraklasa     3    15   \n",
       "3       62795         62795  pko-bp-ekstraklasa     4    16   \n",
       "4       62794         62794  pko-bp-ekstraklasa     5    17   \n",
       "\n",
       "                                                 INC  Round        Date  \\\n",
       "0  [\"30' Yellow_Home - Mesanovic M.\", \"42' Goal_H...      1  2021-07-23   \n",
       "1  [\"12' Yellow_Away - Machado L.\", \"60' Yellow_H...      1  2021-07-23   \n",
       "2  [\"13' Yellow_Away - Kakabadze O.\", \"24' Yellow...      1  2021-07-24   \n",
       "3  [\"49' Yellow_Home - Cernych F.\", \"52' Goal_Awa...      1  2021-07-24   \n",
       "4  [\"28' Goal_Home - Muci E.(Nawrocki M.)\", \"29' ...      1  2021-07-24   \n",
       "\n",
       "    Time  H_Score  ...  Fouls_avg_A  Yellow_Cards_avg_H  Yellow_Cards_avg_A  \\\n",
       "0  18:00      1.0  ...         16.0                 2.0                 2.0   \n",
       "1  20:30      0.0  ...          9.0                 1.0                 1.0   \n",
       "2  15:00      1.0  ...         10.0                 3.0                 3.0   \n",
       "3  17:30      1.0  ...         11.0                 2.0                 1.0   \n",
       "4  20:00      1.0  ...         20.0                 2.0                 2.0   \n",
       "\n",
       "  Ball_Possession_avg_H  Ball_Possession_avg_A  Corner_Kicks_avg_H  \\\n",
       "0                  0.52                   0.48                 1.0   \n",
       "1                  0.55                   0.45                 9.0   \n",
       "2                  0.48                   0.52                 7.0   \n",
       "3                  0.52                   0.48                 5.0   \n",
       "4                  0.55                   0.45                 0.0   \n",
       "\n",
       "   Corner_Kicks_avg_A  Offsides_avg_H  Offsides_avg_A  goal_diff_scaled  \n",
       "0                 2.0             3.0             0.0               0.0  \n",
       "1                 5.0             6.0             2.0               0.0  \n",
       "2                 7.0             0.0             1.0               0.0  \n",
       "3                 9.0             1.0             1.0               0.0  \n",
       "4                 6.0             2.0             3.0               0.5  \n",
       "\n",
       "[5 rows x 78 columns]"
      ]
     },
     "execution_count": 60,
     "metadata": {},
     "output_type": "execute_result"
    }
   ],
   "source": [
    "df.head()"
   ]
  },
  {
   "cell_type": "markdown",
   "id": "bb777082-2a94-44cc-8a5c-074af7e5f9a2",
   "metadata": {},
   "source": [
    "I created those earlier, so you don't have to worry :)"
   ]
  },
  {
   "cell_type": "markdown",
   "id": "ed689808-72d6-42c9-8d02-d7d4e7c65543",
   "metadata": {},
   "source": [
    "But still there is something missing... and that is:"
   ]
  },
  {
   "cell_type": "markdown",
   "id": "6ebb2551-5ac1-46fc-ac56-ce3be66e883d",
   "metadata": {},
   "source": [
    "#### Data preprocessing & modelling"
   ]
  },
  {
   "cell_type": "code",
   "execution_count": 45,
   "id": "551f2a23-2581-41b9-8a36-135015c7249b",
   "metadata": {},
   "outputs": [],
   "source": [
    "def scale_data(df: pd.DataFrame, col: str) -> (pd.DataFrame, RobustScaler):\n",
    "    scaler = RobustScaler()\n",
    "    df[config.scaled_goal_diff_col] = scaler.fit_transform(df[config.goal_difference_col].values.reshape(-1,1))\n",
    "    return df, scaler\n",
    "\n",
    "\n",
    "def create_train_test_sets(df: pd.DataFrame, rounds: int) -> tuple():\n",
    "    config = ColumnsConfig()\n",
    "    df, scaler = scale_data(df, config.goal_difference_col)\n",
    "    df = pd.get_dummies(df, columns=[config.home_team_col, config.away_team_col])\n",
    "    df = df.replace(True, 1)\n",
    "    df = df.replace(False, 0)\n",
    "    for col in df.columns:\n",
    "        if col.startswith(f\"{config.away_team_col}_\"):\n",
    "            corresponding_col = col.replace(f\"{config.away_team_col}_\", f\"{config.home_team_col}_\")\n",
    "            df[corresponding_col] = df.apply(lambda x: -1 if x[col] == 1 else x[corresponding_col], axis=1)\n",
    "    cols_to_drop = [column for column in df.columns if column.startswith(f\"{config.away_team_col}_\")]\n",
    "    df = df.drop(columns=[*cols_to_drop])\n",
    "    x_train = df[df[config.round_col] < int(rounds)]\n",
    "    x_test = df[df[config.round_col] == int(rounds)]\n",
    "    y_train = x_train[config.scaled_goal_diff_col]\n",
    "    y_test = x_test[config.scaled_goal_diff_col]\n",
    "    return x_train, x_test, y_train, y_test, scaler\n",
    "\n",
    "\n",
    "def create_dataset(X, y) -> (np.array, np.array):\n",
    "    Xs, ys = [], []\n",
    "    for i in range(len(X)):\n",
    "        v = X.iloc[i].values\n",
    "        Xs.append(v)\n",
    "        ys.append(y.iloc[i])     \n",
    "    return np.array(Xs), np.array(ys)\n",
    "\n",
    "\n",
    "def inverse_transform(y_pred: np.array, y_test: np.array, scaler: RobustScaler) -> (np.array, np.array):\n",
    "    y_pred = scaler.inverse_transform(y_pred.reshape(1, -1)).reshape(-1, 1)\n",
    "    y_test = scaler.inverse_transform(np.array(y_test).reshape(-1, 1))\n",
    "    y_test = np.concatenate(y_test).flatten()\n",
    "    y_pred = np.concatenate(y_pred).flatten()\n",
    "    return y_pred, y_test\n",
    "\n",
    "\n",
    "def place_bets(y_pred: np.array, y_test: np.array, x_test: pd.DataFrame, translator_dict: dict, invested_amount_per_bet: float = 10.0) -> (list, list, list, list):\n",
    "    cols_to_use = [col for col in x_test.columns if col.startswith(f\"{config.home_team_col}_\")]\n",
    "    x_test[config.home_team_col] = x_test[x_test[cols_to_use].eq(1)].apply(lambda x: int(x.idxmax().split('_')[-1]) if x.any() else 0, axis=1)\n",
    "    x_test[config.away_team_col] = x_test[x_test[cols_to_use].eq(-1)].apply(lambda x: int(x.idxmax().split('_')[-1]) if x.any() else 0, axis=1)\n",
    "    bets_won, invested_money, correct_results, matches_with_preds, real_results = [], [], [], [], []\n",
    "    for match in range(len(y_pred)):\n",
    "        analyzed_match = y_pred[match]\n",
    "        if abs(analyzed_match) >= 1.1:\n",
    "            home_team = x_test.iloc[match][config.home_team_col]\n",
    "            home_team = next((key for key, value in translator_dict.items() if value == home_team), None)\n",
    "            away_team = x_test.iloc[match][config.away_team_col]\n",
    "            away_team = next((key for key, value in translator_dict.items() if value == away_team), None)\n",
    "            matches_with_preds.append({f\"{home_team} vs {away_team}\": f\"{y_pred[match]}\"})\n",
    "            real_results.append({f\"{home_team} vs {away_team}\": f\"{y_test[match]}\"})\n",
    "            invested_money.append(invested_amount_per_bet)\n",
    "            if analyzed_match > 0 and y_test[match] > 0:\n",
    "                bets_won.append(invested_amount_per_bet*x_test.iloc[match][config.bet_h])\n",
    "                correct_results.append(1)\n",
    "            elif analyzed_match < 0 and y_test[match] < 0:\n",
    "                bets_won.append(invested_amount_per_bet*x_test.iloc[match][config.bet_a])\n",
    "                correct_results.append(1)\n",
    "            else:\n",
    "                bets_won.append(0)\n",
    "                correct_results.append(0)\n",
    "    if len(invested_money) == 0:\n",
    "        bets_won.append(0)\n",
    "        invested_money.append(0)\n",
    "    return bets_won, invested_money, correct_results, matches_with_preds, real_results"
   ]
  },
  {
   "cell_type": "markdown",
   "id": "9a5436dc-72f6-475b-a7ca-29cff2fea299",
   "metadata": {},
   "source": [
    "#### And now, let's put ALL TOGETHER!"
   ]
  },
  {
   "cell_type": "code",
   "execution_count": 52,
   "id": "11a77ba1-cb89-446c-8d11-f6ec973831af",
   "metadata": {},
   "outputs": [],
   "source": [
    "def generate_predictions(df: pd.DataFrame, starting_matchday: int, teams_dict: dict) -> (list, list, list, list, list):\n",
    "    config = ColumnsConfig()\n",
    "    bets_won, invested_money, correct_results, matches_with_preds, real_results, studies = [], [], [], [], [], []\n",
    "    for matchday in range(starting_matchday, 35):\n",
    "        x_train, x_test, y_train, y_test, scaler = create_train_test_sets(df, matchday)\n",
    "        cols = ['h_form', 'a_form', 'Shots_on_Goal_avg_H', 'Shots_on_Goal_avg_A', 'Fouls_avg_H', 'Fouls_avg_A', 'Corner_Kicks_avg_H', 'Corner_Kicks_avg_A', 'Offsides_avg_H', 'Offsides_avg_A']\n",
    "        cols_embedded = [config.home_team_col, config.away_team_col]     \n",
    "        x_train = x_train.reset_index(drop=True)\n",
    "        y_train = y_train.reset_index(drop=True)\n",
    "        x_test = x_test.reset_index(drop=True)\n",
    "        bets_x_test = x_test[[config.bet_h, config.bet_draw, config.bet_a]].copy()\n",
    "        y_test = y_test.reset_index(drop=True)\n",
    "        cols = cols + [col for col in x_train if col.startswith(f\"{config.home_team_col}_\")]\n",
    "        x, y = create_dataset(x_train[cols], y_train)\n",
    "        x_testing, y_testing = create_dataset(x_test[cols], y_test)\n",
    "        x_train = x_train[cols]\n",
    "        x_test = x_test[cols]\n",
    "        model = XGBRegressor()\n",
    "        model.fit(x, y, eval_set=[(x_testing, y_testing)], early_stopping_rounds=10, verbose=False)\n",
    "        y_pred = model.predict(x_testing)\n",
    "        y_pred, y_test = inverse_transform(y_pred, y_test, scaler)\n",
    "        x_test = x_test.merge(bets_x_test, how='left', left_index=True, right_index=True)\n",
    "        won, invested, correct, preds, results = place_bets(y_pred, y_test, x_test, teams_dict)\n",
    "        bets_won.append(won)\n",
    "        invested_money.append(invested)\n",
    "        correct_results.append(correct)\n",
    "        matches_with_preds.append(preds)\n",
    "        real_results.append(results)\n",
    "        print(f\"ROUND: {matchday}\")\n",
    "        print(f\"MONEY INVESTED: {sum(invested)}\")\n",
    "        print(f\"MONEY WON: {sum(won)}\")\n",
    "        print(f\"MATCH RESULTS: {correct}\")\n",
    "    return bets_won, invested_money, correct_results, matches_with_preds, real_results, model, studies"
   ]
  },
  {
   "cell_type": "markdown",
   "id": "a628c36a-908a-47b7-ad3c-cfa67ca1e646",
   "metadata": {},
   "source": [
    "#### Ready, steady... go!"
   ]
  },
  {
   "cell_type": "code",
   "execution_count": 53,
   "id": "e4d71f00-79aa-422e-8f83-2db9e6fc29cd",
   "metadata": {
    "scrolled": true,
    "tags": []
   },
   "outputs": [
    {
     "name": "stdout",
     "output_type": "stream",
     "text": [
      "ROUND: 9\n",
      "MONEY INVESTED: 30.0\n",
      "MONEY WON: 47.900000000000006\n",
      "MATCH RESULTS: [1, 1, 0]\n",
      "ROUND: 10\n",
      "MONEY INVESTED: 50.0\n",
      "MONEY WON: 67.6\n",
      "MATCH RESULTS: [0, 1, 1, 1, 1]\n",
      "ROUND: 11\n",
      "MONEY INVESTED: 20.0\n",
      "MONEY WON: 50.5\n",
      "MATCH RESULTS: [1, 1]\n",
      "ROUND: 12\n",
      "MONEY INVESTED: 70.0\n",
      "MONEY WON: 81.6\n",
      "MATCH RESULTS: [1, 1, 1, 0, 1, 0, 0]\n",
      "ROUND: 13\n",
      "MONEY INVESTED: 0\n",
      "MONEY WON: 0\n",
      "MATCH RESULTS: []\n",
      "ROUND: 14\n",
      "MONEY INVESTED: 20.0\n",
      "MONEY WON: 102.2\n",
      "MATCH RESULTS: [1, 1]\n",
      "ROUND: 15\n",
      "MONEY INVESTED: 40.0\n",
      "MONEY WON: 88.10000000000001\n",
      "MATCH RESULTS: [1, 1, 1, 1]\n",
      "ROUND: 16\n",
      "MONEY INVESTED: 40.0\n",
      "MONEY WON: 72.60000000000001\n",
      "MATCH RESULTS: [1, 1, 1, 1]\n",
      "ROUND: 17\n",
      "MONEY INVESTED: 40.0\n",
      "MONEY WON: 68.4\n",
      "MATCH RESULTS: [1, 1, 1, 0]\n",
      "ROUND: 18\n",
      "MONEY INVESTED: 10.0\n",
      "MONEY WON: 0\n",
      "MATCH RESULTS: [0]\n",
      "ROUND: 19\n",
      "MONEY INVESTED: 30.0\n",
      "MONEY WON: 32.7\n",
      "MATCH RESULTS: [0, 1, 1]\n",
      "ROUND: 20\n",
      "MONEY INVESTED: 30.0\n",
      "MONEY WON: 39.300000000000004\n",
      "MATCH RESULTS: [1, 1, 0]\n",
      "ROUND: 21\n",
      "MONEY INVESTED: 30.0\n",
      "MONEY WON: 28.3\n",
      "MATCH RESULTS: [0, 1, 1]\n",
      "ROUND: 22\n",
      "MONEY INVESTED: 10.0\n",
      "MONEY WON: 0\n",
      "MATCH RESULTS: [0]\n",
      "ROUND: 23\n",
      "MONEY INVESTED: 0\n",
      "MONEY WON: 0\n",
      "MATCH RESULTS: []\n",
      "ROUND: 24\n",
      "MONEY INVESTED: 40.0\n",
      "MONEY WON: 61.7\n",
      "MATCH RESULTS: [1, 0, 1, 1]\n",
      "ROUND: 25\n",
      "MONEY INVESTED: 10.0\n",
      "MONEY WON: 13.3\n",
      "MATCH RESULTS: [1]\n",
      "ROUND: 26\n",
      "MONEY INVESTED: 40.0\n",
      "MONEY WON: 31.300000000000004\n",
      "MATCH RESULTS: [1, 0, 0, 1]\n",
      "ROUND: 27\n",
      "MONEY INVESTED: 20.0\n",
      "MONEY WON: 15.8\n",
      "MATCH RESULTS: [1, 0]\n",
      "ROUND: 28\n",
      "MONEY INVESTED: 20.0\n",
      "MONEY WON: 0\n",
      "MATCH RESULTS: [0, 0]\n",
      "ROUND: 29\n",
      "MONEY INVESTED: 20.0\n",
      "MONEY WON: 14.5\n",
      "MATCH RESULTS: [1, 0]\n",
      "ROUND: 30\n",
      "MONEY INVESTED: 40.0\n",
      "MONEY WON: 91.0\n",
      "MATCH RESULTS: [1, 1, 1, 1]\n",
      "ROUND: 31\n",
      "MONEY INVESTED: 10.0\n",
      "MONEY WON: 11.799999999999999\n",
      "MATCH RESULTS: [1]\n",
      "ROUND: 32\n",
      "MONEY INVESTED: 20.0\n",
      "MONEY WON: 16.5\n",
      "MATCH RESULTS: [0, 1]\n",
      "ROUND: 33\n",
      "MONEY INVESTED: 10.0\n",
      "MONEY WON: 32.0\n",
      "MATCH RESULTS: [1]\n",
      "ROUND: 34\n",
      "MONEY INVESTED: 30.0\n",
      "MONEY WON: 28.2\n",
      "MATCH RESULTS: [1, 0, 1]\n"
     ]
    }
   ],
   "source": [
    "won, invested, correct, preds, real_res, model, s = generate_predictions(df, 9, teams_dict)"
   ]
  },
  {
   "cell_type": "markdown",
   "id": "0346d1b4-aa7d-416e-b6dc-928f4faf1c4f",
   "metadata": {},
   "source": [
    "#### Let's see the final result:"
   ]
  },
  {
   "cell_type": "code",
   "execution_count": 55,
   "id": "60a2ba77-23eb-4035-a337-ba102f7bfe56",
   "metadata": {},
   "outputs": [],
   "source": [
    "def sum_lists(a_list: list) -> float:\n",
    "    total_sum = 0\n",
    "    for sublist in a_list:\n",
    "        for item in sublist:\n",
    "            total_sum += item\n",
    "    return total_sum"
   ]
  },
  {
   "cell_type": "code",
   "execution_count": 58,
   "id": "c11e564a-7757-4b5c-9880-aeb1eb791563",
   "metadata": {},
   "outputs": [
    {
     "data": {
      "text/plain": [
       "195.86400000000003"
      ]
     },
     "execution_count": 58,
     "metadata": {},
     "output_type": "execute_result"
    }
   ],
   "source": [
    "sum_lists(won)*0.88 - sum_lists(invested)"
   ]
  },
  {
   "cell_type": "markdown",
   "id": "8e4ffa47-4e36-4bb7-8ac7-3b215b11915a",
   "metadata": {},
   "source": [
    "# Yay, we've <b>won</b>!"
   ]
  },
  {
   "cell_type": "markdown",
   "id": "2acea44f-693a-45a3-8166-3043301d6403",
   "metadata": {},
   "source": [
    "But only in this season... who knows what future holds?"
   ]
  }
 ],
 "metadata": {
  "kernelspec": {
   "display_name": "Python 3",
   "language": "python",
   "name": "python3"
  },
  "language_info": {
   "codemirror_mode": {
    "name": "ipython",
    "version": 3
   },
   "file_extension": ".py",
   "mimetype": "text/x-python",
   "name": "python",
   "nbconvert_exporter": "python",
   "pygments_lexer": "ipython3",
   "version": "3.8.8"
  }
 },
 "nbformat": 4,
 "nbformat_minor": 5
}
