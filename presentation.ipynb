{
 "cells": [
  {
   "cell_type": "markdown",
   "id": "1f8bd72a-aeca-4261-bd36-31a7a45972ab",
   "metadata": {},
   "source": [
    "# BETAING THE BOOKIE - IS IT EVEN POSSIBLE?"
   ]
  },
  {
   "cell_type": "markdown",
   "id": "f25491e2-4331-4957-acfe-855e4755f870",
   "metadata": {},
   "source": [
    "------------------------"
   ]
  },
  {
   "cell_type": "markdown",
   "id": "cb362ded-06d5-44f4-8304-7e788690c526",
   "metadata": {},
   "source": [
    "Agenda:\n",
    "- How do bookmakers work?\n",
    "- How are bookmakers' odds calculated?\n",
    "- What are some of the money management strategies?\n",
    "- How can you implement a machine learning model to that problem?\n",
    "- Modelling & fun with data"
   ]
  },
  {
   "cell_type": "markdown",
   "id": "b3eacaf1-f49e-45f5-b272-1effd71b4e87",
   "metadata": {},
   "source": [
    "## 1. How do bookmakers work?"
   ]
  },
  {
   "cell_type": "markdown",
   "id": "b51f0bea-4fdd-4ccd-a89e-22d1ccc70572",
   "metadata": {},
   "source": [
    "![MoneyUrl](https://media.tenor.com/-1phYTnql_kAAAAd/xrd-exrd.gif \"money\")<br>\n",
    "Gif of an average bookmaker"
   ]
  },
  {
   "cell_type": "markdown",
   "id": "eaa86b00-c51a-4b7b-9647-fbd8bc38debb",
   "metadata": {},
   "source": [
    "### Definition"
   ]
  },
  {
   "cell_type": "markdown",
   "id": "30b15c31-b8ce-4ae6-bea9-a3e15dad1d42",
   "metadata": {},
   "source": [
    "<font size=\"1\">(I mean, yeah, there is porbably a better one but who would like to read dull wikipedia pages, right?)</font>"
   ]
  },
  {
   "cell_type": "markdown",
   "id": "7a387831-ebc5-4c3c-bc80-f3777e105053",
   "metadata": {},
   "source": [
    "Typically bookmaker is a proffesion like no other.<br>\n",
    "They posses magical skills of multiplying your money when you are right! \n",
    " \n",
    "Imagine if you had one dollar for every right thing you said...\n",
    "    Sounds great?? I guess so.\n",
    "    \n",
    "But there is a catch. Not like a small one but rather a <b> BIG </b> one. It is gambling after all...\n",
    "Once you are wrong, you lose all that you staked."
   ]
  },
  {
   "cell_type": "markdown",
   "id": "aec06684-9143-432e-9fa9-8940d6898c14",
   "metadata": {},
   "source": [
    "\"Okay okay mr. Know it All but if you lose money and probably the odds are rigged in favour of bookmakers then you are destined to lose, don't you?\" <br>\n",
    "\"Well yes, but no.\" - I would respond <br>\n",
    "\"Go on..\" <br>\n",
    "\"Hold your horses Speedy Gonzalez, let's take a minute to learn the ropes, then we could have some fun with it\"\n",
    "\n",
    "<font size=\"1\">I guess that's how an average conversation with some of you would go. No? Ok, I was just guessing..</font>"
   ]
  },
  {
   "cell_type": "markdown",
   "id": "c2a5fd70-1767-49ba-b08f-b5b7a324d2c9",
   "metadata": {},
   "source": [
    "### What is their job?"
   ]
  },
  {
   "cell_type": "markdown",
   "id": "8c1758c3-66ce-427c-814c-d474d187570e",
   "metadata": {},
   "source": [
    "Their task is to create odds for specific results (e.g. draw, home team win, which horse is the fastest, etc.) in specific sporting events. <br>\n",
    "A bookmaker's job may look simple but in reality it isn't. One small slip in odds offer and they may lose lots of money."
   ]
  },
  {
   "attachments": {
    "e845a402-9cd6-4c08-9ee1-2ba9586aff34.png": {
     "image/png": "[encoded data removed]"
    }
   },
   "cell_type": "markdown",
   "id": "0adf6ff2-9022-4435-aba3-6f9ec366ac80",
   "metadata": {},
   "source": [
    "![image.png](attachment:e845a402-9cd6-4c08-9ee1-2ba9586aff34.png) <br> Example odds for a football game, 1 is home win, x is draw and 2 means away win\n",
    "<br> From that you can calculate probabilities"
   ]
  },
  {
   "cell_type": "markdown",
   "id": "6aa1c6f6-e685-4b3d-9451-736a3ce51003",
   "metadata": {},
   "source": [
    "DISCLAIMER 1: This presentation is neither an investment proposal nor an encouragement for gambling, it is merely a fun notebook to see if you can really beat the bookmaker <br>\n",
    "DISCLAIMER 2: I'm sorry whole world and UK but in this presentation we will be working with european odds because they simply MAKE THE MOST SENSE\n",
    "\n",
    "Okay, with that sorted let's move on to the next section"
   ]
  },
  {
   "cell_type": "markdown",
   "id": "c7e965ba-3d9b-477c-b861-1fc967a1b041",
   "metadata": {},
   "source": [
    "## 2. How are bookmakers' odds calculated?"
   ]
  },
  {
   "cell_type": "markdown",
   "id": "142c6b7f-459f-4bd5-99c0-f3f1865a6663",
   "metadata": {},
   "source": [
    "First of all, let's see what's all this fuss about european odds. In short, it is easy to see what the expected payout would be. For example if you were to bet \\\\$10 on an event that has 1.5 odds, then you may win \\\\$15. Or lose it all in case you pick the wrong option. Furthermore european odds are also easily transformed into implied probability:"
   ]
  },
  {
   "cell_type": "markdown",
   "id": "e26911c1-1bfe-4275-b695-e844cb16a09a",
   "metadata": {},
   "source": [
    "$$\n",
    "\\pi_{i} = 1/o_{i}\n",
    "$$"
   ]
  },
  {
   "cell_type": "markdown",
   "id": "7a230667-d005-42dd-aea1-a0f7b903b3e8",
   "metadata": {},
   "source": [
    "Hold up, <b><i>implied</i></b> probability?"
   ]
  },
  {
   "cell_type": "markdown",
   "id": "952b7f12-e875-4054-8365-e218cf34bf41",
   "metadata": {},
   "source": [
    "Yep, that is right, had we been living in a perfect world, then all of the implied probabilities of all possible outcomes of a match would sum up to 1. But sadly, it is very rare."
   ]
  },
  {
   "cell_type": "markdown",
   "id": "e005e7f8-c1cb-47da-ba16-689ab638f69b",
   "metadata": {},
   "source": [
    "In the majority of cases this addition ends up in values bigger than 1. Bookmakers do that deliberately, because they want to earn some money. Think of it as a margin for bookmaker."
   ]
  },
  {
   "cell_type": "markdown",
   "id": "3f3d890d-09a9-426a-bc70-dc3b36fd02eb",
   "metadata": {},
   "source": [
    "One way to calculate the real probabilities is to divide each implied probability by the sum of all implied probabilities:"
   ]
  },
  {
   "cell_type": "markdown",
   "id": "b52ef80e-ac13-48be-9ea2-8391b3a6e479",
   "metadata": {},
   "source": [
    "$$\n",
    "p_{i} = \\frac{1}{\\sum_{i=1}^{n}\\pi_{i}}\n",
    "$$"
   ]
  },
  {
   "cell_type": "markdown",
   "id": "40323a97-df82-4632-aedc-f9bf7136048e",
   "metadata": {},
   "source": [
    "### How do they know what odds to offer?"
   ]
  },
  {
   "cell_type": "markdown",
   "id": "b37f5b68-5895-4ffb-8a8d-5cfe614031e0",
   "metadata": {},
   "source": [
    "Basically, the starting odds are calculated with help of statistical models but then it is getting more complex. Odds fluctuate throught the time period from initial offering to the start of the match. Why? Imagine if all players for some weird reason would bet on one event that eventually occured in reality. In this way bookmaker would be furious, they would lose lots of money. Therefore they adjust their odds to incentivize betting on different events. That is called risk management."
   ]
  },
  {
   "cell_type": "markdown",
   "id": "06edca0c-c245-4d38-9023-6f7bdf7f329d",
   "metadata": {},
   "source": [
    "Can you see where this is going? It smells to me like market inefficiency..."
   ]
  },
  {
   "cell_type": "markdown",
   "id": "baf5584c-3a68-4992-ac92-70c4a12f649e",
   "metadata": {},
   "source": [
    "![InefficiencyUrl](https://media1.giphy.com/media/3o6MbiByum8PSsQcMg/giphy.gif?cid=ecf05e47wfr2s9r0tkvlaaez15sbqen2j38s6azn9u0gjtmr&ep=v1_gifs_search&rid=giphy.gif&ct=g \"inefficiency\")"
   ]
  },
  {
   "cell_type": "markdown",
   "id": "c9d4c34c-14e8-47d9-aabc-5cb41deade01",
   "metadata": {},
   "source": [
    "And it is exactly what interests porfessional betting freaks. Analysis of hundreds of offered odds from different bookmakers, seeking arbitrage opportunities, all of this is possible! Yet, in this presentation we won't go that far. Nonetheless, here are some research papers from betting geeks:\n",
    "\n",
    "- \n",
    "- "
   ]
  },
  {
   "cell_type": "markdown",
   "id": "9f4b1c0b-8052-45ca-b340-c0902ca6b457",
   "metadata": {},
   "source": [
    "## 3. What are some of the money management strategies?"
   ]
  },
  {
   "cell_type": "markdown",
   "id": "a578d2e6-372b-419b-b43b-7ca5f2ffff02",
   "metadata": {},
   "source": [
    "Some of the most notable ones include:\n",
    "- betting only on odds bigger than 1.5 with high probability of conversion\n",
    "- usage of Kelly Criterion\n",
    "- usage of Markowitz Portfolio Management"
   ]
  },
  {
   "cell_type": "markdown",
   "id": "7fc61f37-6bf7-4d7f-8ec5-3e5a271b866a",
   "metadata": {},
   "source": [
    "First one is pretty straightforward. Look for discreptancies between real and implied odds, then bet money on those juicy odds"
   ]
  },
  {
   "cell_type": "markdown",
   "id": "729e2c38-2503-4e42-afba-0d976c615093",
   "metadata": {},
   "source": [
    "Second one is more tricky:"
   ]
  },
  {
   "cell_type": "markdown",
   "id": "00e52aa2-3936-414d-8d28-41a33b3146e0",
   "metadata": {},
   "source": [
    "$$\n",
    "K=(B⋅P-(1-P))∕B\n",
    "$$"
   ]
  },
  {
   "cell_type": "markdown",
   "id": "38f98b99-8682-4e59-8d50-31989cf75329",
   "metadata": {},
   "source": [
    "where B is offered odds minus 1, P is probability of an event occuring (calculated by the player). This way you will obtain K which is the percentage of funds that could be invested in betting on given event."
   ]
  },
  {
   "cell_type": "markdown",
   "id": "689bed36-bc95-41e5-87e9-3230fb404212",
   "metadata": {},
   "source": [
    "The third one is the trickiest of all, so I will leave a link for those of you who are interested: <br>\n",
    "https://en.wikipedia.org/wiki/Modern_portfolio_theory"
   ]
  },
  {
   "cell_type": "markdown",
   "id": "5286e72e-219a-440d-bed2-753ec056accd",
   "metadata": {},
   "source": [
    "In essence, it provides a systematic approach to investment decision-making by quantifying risk and return, emphasizing diversification, and guiding investors in building portfolios that align with their risk preferences and financial goals"
   ]
  },
  {
   "cell_type": "markdown",
   "id": "b13526b3-1300-40cf-a122-d9b27995fb67",
   "metadata": {},
   "source": [
    "<font size=1> Thanks Chat GPT :)</font>"
   ]
  },
  {
   "cell_type": "markdown",
   "id": "db8245d0-a08e-4608-9a43-096fda61d520",
   "metadata": {},
   "source": [
    "Ok cool, now I know some money management strategies, next time I won't buy an overpriced coffee from Starbucks, but how do I calculate my own probabilities or something? - you may ask <br>\n",
    "Answer is simple, just implement those funny little things:"
   ]
  },
  {
   "cell_type": "markdown",
   "id": "51aea590-b579-4728-a9a2-b15cace34aba",
   "metadata": {},
   "source": [
    "## 4. How can you implement a machine learning model to that problem?"
   ]
  },
  {
   "cell_type": "markdown",
   "id": "081dcbdb-7639-40f5-89a2-c0df1ccc5225",
   "metadata": {},
   "source": []
  },
  {
   "cell_type": "markdown",
   "id": "110005b1-25da-4912-99e1-2d1d9dc725fd",
   "metadata": {},
   "source": []
  }
 ],
 "metadata": {
  "kernelspec": {
   "display_name": "Python 3",
   "language": "python",
   "name": "python3"
  },
  "language_info": {
   "codemirror_mode": {
    "name": "ipython",
    "version": 3
   },
   "file_extension": ".py",
   "mimetype": "text/x-python",
   "name": "python",
   "nbconvert_exporter": "python",
   "pygments_lexer": "ipython3",
   "version": "3.8.8"
  }
 },
 "nbformat": 4,
 "nbformat_minor": 5
}
